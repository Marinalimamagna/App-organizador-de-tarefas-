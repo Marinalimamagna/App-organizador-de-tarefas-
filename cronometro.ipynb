{
  "nbformat": 4,
  "nbformat_minor": 0,
  "metadata": {
    "colab": {
      "provenance": [],
      "authorship_tag": "ABX9TyOrqt7qaef2dG9vy1yZ1P3q",
      "include_colab_link": true
    },
    "kernelspec": {
      "name": "python3",
      "display_name": "Python 3"
    },
    "language_info": {
      "name": "python"
    }
  },
  "cells": [
    {
      "cell_type": "markdown",
      "metadata": {
        "id": "view-in-github",
        "colab_type": "text"
      },
      "source": [
        "<a href=\"https://colab.research.google.com/github/Marinalimamagna/App-organizador-de-tarefas-/blob/main/cronometro.ipynb\" target=\"_parent\"><img src=\"https://colab.research.google.com/assets/colab-badge.svg\" alt=\"Open In Colab\"/></a>"
      ]
    },
    {
      "cell_type": "code",
      "source": [
        "import time\n",
        "\n",
        "def cronometro():\n",
        "    print(\"Cronômetro iniciado. Pressione Ctrl+C para parar.\")\n",
        "    try:\n",
        "        segundos = 0\n",
        "        while True:\n",
        "            minutos, seg = divmod(segundos, 60)\n",
        "            horas, minutos = divmod(minutos, 60)\n",
        "            print(f'\\r{horas:02}:{minutos:02}:{seg:02}', end='')\n",
        "            time.sleep(1)\n",
        "            segundos += 1\n",
        "    except KeyboardInterrupt:\n",
        "        print(\"\\nCronômetro parado!\")\n",
        "\n",
        "if __name__ == \"__main__\":\n",
        "    cronometro()\n"
      ],
      "metadata": {
        "colab": {
          "base_uri": "https://localhost:8080/"
        },
        "id": "Bwhb6dH1kaIc",
        "outputId": "090123c6-8e59-4fb3-88b3-ead36b73f8b4"
      },
      "execution_count": null,
      "outputs": [
        {
          "output_type": "stream",
          "name": "stdout",
          "text": [
            "Cronômetro iniciado. Pressione Ctrl+C para parar.\n",
            "00:03:14"
          ]
        }
      ]
    }
  ]
}